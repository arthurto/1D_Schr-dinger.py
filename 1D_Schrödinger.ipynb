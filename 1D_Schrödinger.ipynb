{
 "cells": [
  {
   "cell_type": "markdown",
   "metadata": {},
   "source": [
    "# A Equação de Schrödinger em Uma Dimensão\n",
    "\n",
    "Nesse notebook vamos resolver a Equação de Schrödinger estacionária para um potencial arbitrário em uma dimensão, a equação de Schrödinger estacionária pode ser escrita como \n",
    "\n",
    "$$ \\hat H| \\psi \\rangle = E | \\psi \\rangle .$$\n",
    "\n",
    "Se vamos observar um estado quântico em uma caixa com relação à posição, podemos multiplicar o 'ket' $| \\psi \\rangle $ pelo 'bra' $ \\langle x | $ e obter a função de onda \n",
    "\n",
    "\n",
    "$$ \\langle x |\\hat H| \\psi \\rangle = E \\langle x | \\psi \\rangle $$\n",
    "\n",
    "\n",
    "$$ -\\frac{\\hbar^2}{2 m}\\frac{\\partial^2 \\psi(x)}{\\partial x^2}+V(x)\\psi(x) = E \\psi(x).$$\n",
    "\n",
    "\n",
    "Prorém para resolvermos esse problema precisamos discretizá-lo. Ou seja, escolher $N$ pontos igualmente espaçados, por um comprimento $dx = \\frac{L}{N}$ onde $L$ é o comprimento da 'caixa' de uma dimensão na qual resolveremos o nosso problema. Para resolver precisamos impor a condição de contorno \n",
    "\n",
    "$$ \\psi(0) = \\psi(L) = 0 $$\n",
    "\n",
    "o que define o problema como um problema de Sturm–Liouville.\n",
    "\n",
    "\n",
    "Ou seja, as soluções que encontraremos vão ser autoestados $\\psi_n(x)$ (autovetores ou autofunções) e autovalores $E_n$. \n",
    "\n",
    "## Discretização\n",
    "\n",
    "De volta à discretização, para resolvermos o problema vamos separar a função $\\psi(x)$ em $N$ subintervalos, então na verdade teremos $\\psi_i$ com $i = 0,1,2,3,...,N$, ou de outra forma, a função vai ser substituída por uma 'tupla' \n",
    "\n",
    "$$ \\psi(x) \\rightarrow \\begin{pmatrix} \\psi_0 \\\\ \\psi_1 \\\\ \\psi_2 \\\\ \\vdots \\\\ \\psi_N \\end{pmatrix}.$$ \n"
   ]
  },
  {
   "cell_type": "markdown",
   "metadata": {},
   "source": [
    "Enquanto que os operadores $\\frac{\\partial^2 }{\\partial x^2}$ e $V(x)$ também precisam ser discretizados. Para cada ponto x podemos escrever $V(x) \\rightarrow V_i$ assim como fizemos com a função $\\psi$. Para a derivada segunda podemos usar a aproximação de diferenças finitas, tal que \n",
    "\n",
    "$$ \\frac{\\partial^2 \\psi(x)}{\\partial x^2} \\approx \\frac{\\psi(x+dx)-2\\psi(x)+\\psi(x-dx)}{(dx)^2} = \\frac{\\psi_{i+1}-2\\psi_i+\\psi_{i-1}}{(dx)^2}. $$\n",
    "\n",
    "Ou seja, a equação \n",
    "\n",
    "$$ -\\frac{\\hbar^2}{2m}\\frac{\\psi_{i+1}-2\\psi_i+\\psi_{i-1}}{(dx)^2} + V_i\\psi_i = \\psi_i E $$\n",
    "\n",
    "precisa valer para todos os valores de $i = 0,1,2, ... , N$. \n",
    "\n",
    "Logo deve valer a equação matricial \n",
    "\n",
    "$$ \\begin{bmatrix} \n",
    "\\frac{\\hbar^2}{(dx)^2 m} + V_0 & -\\frac{\\hbar^2}{2m (dx)^2} & 0 & 0 & ... & 0 \\\\\n",
    "-\\frac{\\hbar^2}{2m (dx)^2} & \\frac{\\hbar^2}{m (dx)^2} + V_1 & -\\frac{\\hbar^2}{2m (dx)^2} & 0 & ... & 0 \\\\\n",
    "0 & -\\frac{\\hbar^2}{2m (dx)^2} & \\frac{\\hbar^2}{m (dx)^2} + V_2 & -\\frac{\\hbar^2}{2m (dx)^2} & ... & \\vdots \\\\\n",
    "\\vdots & 0 & \\ddots & \\ddots& \\ddots & -\\frac{\\hbar^2}{2m (dx)^2} \\\\\n",
    "  &   &   &   &  &  &  \\\\\n",
    "0 & 0 & 0 & 0 & -\\frac{\\hbar^2}{2m (dx)^2} & \\frac{\\hbar^2}{m (dx)^2} + V_2 \n",
    "\\end{bmatrix}\\begin{pmatrix} \\psi_0 \\\\ \\psi_1 \\\\ \\psi_2 \\\\ \\vdots \\\\ \\psi_N \\end{pmatrix} = E \\begin{pmatrix} \\psi_0 \\\\ \\psi_1 \\\\ \\psi_2 \\\\ \\vdots \\\\ \\psi_N \\end{pmatrix}. $$"
   ]
  },
  {
   "cell_type": "markdown",
   "metadata": {},
   "source": [
    "Portanto, agora só precisamos resolver essa equação matricial e encontrar os autovalores e autovetores do problema. Para isso um pacote numérico de álgebra linear pode vir muito a calhar. "
   ]
  },
  {
   "cell_type": "code",
   "execution_count": 1,
   "metadata": {},
   "outputs": [],
   "source": [
    "import numpy as np\n",
    "import num\n",
    "\n"
   ]
  }
 ],
 "metadata": {
  "kernelspec": {
   "display_name": "Python 3",
   "language": "python",
   "name": "python3"
  },
  "language_info": {
   "codemirror_mode": {
    "name": "ipython",
    "version": 3
   },
   "file_extension": ".py",
   "mimetype": "text/x-python",
   "name": "python",
   "nbconvert_exporter": "python",
   "pygments_lexer": "ipython3",
   "version": "3.8.5"
  }
 },
 "nbformat": 4,
 "nbformat_minor": 4
}
